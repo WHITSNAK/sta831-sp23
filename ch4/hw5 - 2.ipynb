{
 "cells": [
  {
   "cell_type": "code",
   "execution_count": 1,
   "metadata": {},
   "outputs": [],
   "source": [
    "%load_ext autoreload\n",
    "%autoreload 2\n",
    "\n",
    "import sys\n",
    "\n",
    "import pandas as pd\n",
    "import numpy as np\n",
    "import matplotlib.pyplot as plt\n",
    "import seaborn as sns\n",
    "import statsmodels.api as sm\n",
    "from scipy import stats\n",
    "\n",
    "sns.set_style('whitegrid')"
   ]
  },
  {
   "cell_type": "markdown",
   "metadata": {},
   "source": [
    "Trying to estimate the mixture of Dirichilet distirbution because of 4 missing data points out of total 40 samples. We can see, using the conditional of the first 36 complete samples as a prior to estimate the full postieror, the estimation error on tail probability is quite large.\n",
    "- prior: $p(\\theta|y_{1:36}) \\thicksim Dir(a=[44.2, 1.7, 0.1])$\n",
    "- full posterior: $p(\\theta|y_{1:40})$"
   ]
  },
  {
   "cell_type": "code",
   "execution_count": 99,
   "metadata": {},
   "outputs": [],
   "source": [
    "# two unnormalized likelihood for the target and proposal\n",
    "def dirichlet_logg(theta, a):\n",
    "    return (a-1) @ np.log(theta)\n",
    "\n",
    "def dirichlet_logp(theta, a):\n",
    "    logp = dirichlet_logg(theta, a)\n",
    "    logp += 4 * np.log(theta[1] + theta[2])\n",
    "    return logp\n",
    "\n",
    "alpha = 10\n",
    "m = np.array([0.92, 0.07, 0.01])\n",
    "samples = np.array([35, 1, 0])\n",
    "\n",
    "# proposal uses the first 36 data points\n",
    "a = alpha*m + np.array([35, 1, 0])\n",
    "θs = np.random.dirichlet(a, size=100000)\n",
    "\n",
    "iws = []\n",
    "for theta in θs:\n",
    "    logg = dirichlet_logg(theta, a)\n",
    "    logp = dirichlet_logp(theta, a)\n",
    "    logw = logp - logg\n",
    "    iws.append((logp, logg, logw))\n",
    "\n",
    "iws = pd.DataFrame(iws, columns=['logp','logg','logw'])\n",
    "ws = np.exp(iws.logw - iws.logw.max())\n",
    "ws /= ws.sum()\n",
    "iws['ws'] = ws"
   ]
  },
  {
   "cell_type": "code",
   "execution_count": 118,
   "metadata": {},
   "outputs": [
    {
     "name": "stdout",
     "output_type": "stream",
     "text": [
      "5130.114276991081 0.05130114276991081\n"
     ]
    },
    {
     "data": {
      "image/png": "[encoded data removed]",
      "text/plain": [
       "<Figure size 432x288 with 1 Axes>"
      ]
     },
     "metadata": {
      "needs_background": "light"
     },
     "output_type": "display_data"
    }
   ],
   "source": [
    "sns.histplot(iws.logw)\n",
    "# ESS\n",
    "print(1/(iws.ws@iws.ws), 1/(iws.ws@iws.ws)/100000)"
   ]
  },
  {
   "cell_type": "code",
   "execution_count": 96,
   "metadata": {},
   "outputs": [
    {
     "data": {
      "text/plain": [
       "array([0.88365175, 0.10942019, 0.00692806])"
      ]
     },
     "execution_count": 96,
     "metadata": {},
     "output_type": "execute_result"
    }
   ],
   "source": [
    "(iws.ws.values.reshape(-1, 1) * θs).sum(0)"
   ]
  },
  {
   "cell_type": "code",
   "execution_count": 100,
   "metadata": {},
   "outputs": [
    {
     "data": {
      "text/plain": [
       "array([0.88511586, 0.10872676, 0.00615737])"
      ]
     },
     "execution_count": 100,
     "metadata": {},
     "output_type": "execute_result"
    }
   ],
   "source": [
    "(iws.ws.values.reshape(-1, 1) * θs).sum(0)"
   ]
  }
 ],
 "metadata": {
  "kernelspec": {
   "display_name": "Python 3.8.10 ('base')",
   "language": "python",
   "name": "python3"
  },
  "language_info": {
   "codemirror_mode": {
    "name": "ipython",
    "version": 3
   },
   "file_extension": ".py",
   "mimetype": "text/x-python",
   "name": "python",
   "nbconvert_exporter": "python",
   "pygments_lexer": "ipython3",
   "version": "3.8.10"
  },
  "orig_nbformat": 4,
  "vscode": {
   "interpreter": {
    "hash": "8aa86febbd8b68d3c6a1a0d2cefbe9270b8ac80e62773c8b87751ee948ce61ed"
   }
  }
 },
 "nbformat": 4,
 "nbformat_minor": 2
}
